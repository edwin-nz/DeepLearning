{
  "nbformat": 4,
  "nbformat_minor": 0,
  "metadata": {
    "colab": {
      "name": "CNNyoutube.ipynb",
      "provenance": [],
      "collapsed_sections": [],
      "include_colab_link": true
    },
    "kernelspec": {
      "name": "python3",
      "display_name": "Python 3"
    },
    "accelerator": "GPU"
  },
  "cells": [
    {
      "cell_type": "markdown",
      "metadata": {
        "id": "view-in-github",
        "colab_type": "text"
      },
      "source": [
        "<a href=\"https://colab.research.google.com/github/edwin-nz/DeepLearning/blob/main/Minst-CNN.ipynb\" target=\"_parent\"><img src=\"https://colab.research.google.com/assets/colab-badge.svg\" alt=\"Open In Colab\"/></a>"
      ]
    },
    {
      "cell_type": "markdown",
      "metadata": {
        "id": "INTErZx5KHts"
      },
      "source": [
        "# Setup"
      ]
    },
    {
      "cell_type": "code",
      "metadata": {
        "id": "dGjbpVBoGjmu"
      },
      "source": [
        "import numpy as np\n",
        "import tensorflow as tf\n",
        "from tensorflow import keras\n",
        "from tensorflow.keras.models import Sequential\n",
        "from tensorflow.keras.layers import Activation, Dense, Flatten, BatchNormalization, Conv2D, MaxPooling2D, Dropout\n",
        "from tensorflow.keras.datasets import mnist\n",
        "from tensorflow.keras.optimizers import Adam\n",
        "import matplotlib.pyplot as plt"
      ],
      "execution_count": null,
      "outputs": []
    },
    {
      "cell_type": "code",
      "metadata": {
        "colab": {
          "base_uri": "https://localhost:8080/"
        },
        "id": "IyUXJUueI8zY",
        "outputId": "0a4ac944-1c21-423f-9447-6ba606759846"
      },
      "source": [
        "physical_devices = tf.config.experimental.list_physical_devices('GPU')\n",
        "print(\"GPUs Available: \", len(physical_devices))\n",
        "tf.config.experimental.set_memory_growth(physical_devices[0], True)"
      ],
      "execution_count": null,
      "outputs": [
        {
          "output_type": "stream",
          "name": "stdout",
          "text": [
            "GPUs Available:  1\n"
          ]
        }
      ]
    },
    {
      "cell_type": "markdown",
      "metadata": {
        "id": "3B5rd1c-Hti9"
      },
      "source": [
        "# Import MNIST Dataset"
      ]
    },
    {
      "cell_type": "code",
      "metadata": {
        "colab": {
          "base_uri": "https://localhost:8080/"
        },
        "id": "HMT7OSHnHxhV",
        "outputId": "8256bd15-ce56-40b3-cc69-95706fc39833"
      },
      "source": [
        "(x_train, y_train), (x_test, y_test) = mnist.load_data()\n",
        "\n",
        "print(x_train.shape)\n",
        "print(y_train.shape)\n",
        "print(y_train[:5])\n",
        "\n",
        "img_rows=x_train[0].shape[0]\n",
        "img_cols=x_test[0].shape[1]\n",
        "\n",
        "X_train = x_train.reshape(x_train.shape[0], img_rows, img_cols, 1)\n",
        "X_test = x_test.reshape(x_test.shape[0], img_rows, img_cols, 1)"
      ],
      "execution_count": null,
      "outputs": [
        {
          "output_type": "stream",
          "name": "stdout",
          "text": [
            "Downloading data from https://storage.googleapis.com/tensorflow/tf-keras-datasets/mnist.npz\n",
            "11493376/11490434 [==============================] - 0s 0us/step\n",
            "11501568/11490434 [==============================] - 0s 0us/step\n",
            "(60000, 28, 28)\n",
            "(60000,)\n",
            "[5 0 4 1 9]\n"
          ]
        }
      ]
    },
    {
      "cell_type": "code",
      "metadata": {
        "id": "wTzR3q-9IS8H"
      },
      "source": [
        "def plotImages(images_arr):\n",
        "    fig, axes = plt.subplots(1, 10, figsize=(20,20))\n",
        "    axes = axes.flatten()\n",
        "    for img, ax in zip( images_arr, axes):\n",
        "        ax.imshow(img)\n",
        "        ax.axis('off')\n",
        "    plt.tight_layout()\n",
        "    plt.show()"
      ],
      "execution_count": null,
      "outputs": []
    },
    {
      "cell_type": "code",
      "metadata": {
        "colab": {
          "base_uri": "https://localhost:8080/",
          "height": 163
        },
        "id": "12QjU55gIXyA",
        "outputId": "7b5b98fc-38c8-4939-bb23-75f5abd6ab9d"
      },
      "source": [
        "plotImages(x_train[:10])"
      ],
      "execution_count": null,
      "outputs": [
        {
          "output_type": "display_data",
          "data": {
            "image/png": "[encoded data removed]",
            "text/plain": [
              "<Figure size 1440x1440 with 10 Axes>"
            ]
          },
          "metadata": {
            "needs_background": "light"
          }
        }
      ]
    },
    {
      "cell_type": "markdown",
      "metadata": {
        "id": "K5STVm1bJ_xc"
      },
      "source": [
        "# Create a Convolutional Neural Network"
      ]
    },
    {
      "cell_type": "code",
      "metadata": {
        "id": "QfW99cTqI28u"
      },
      "source": [
        "model = Sequential([\n",
        "      Conv2D(32, (5,5), activation='relu', padding='same', input_shape=(28, 28, 1)),\n",
        "      MaxPooling2D(pool_size=(2,2), padding='same'),\n",
        "      Conv2D(32, (5,5), padding='same', activation='relu'),\n",
        "      MaxPooling2D(pool_size=(2,2), padding='same'),\n",
        "      Flatten(),\n",
        "      Dense(1024, activation='relu'),\n",
        "      Dropout(0.4),\n",
        "      Dense(10)\n",
        "])"
      ],
      "execution_count": null,
      "outputs": []
    },
    {
      "cell_type": "code",
      "metadata": {
        "colab": {
          "base_uri": "https://localhost:8080/"
        },
        "id": "bnZtiLX-J-eY",
        "outputId": "798ca680-c9ab-43f2-8391-785c7ce3038c"
      },
      "source": [
        "model.summary()"
      ],
      "execution_count": null,
      "outputs": [
        {
          "output_type": "stream",
          "name": "stdout",
          "text": [
            "Model: \"sequential\"\n",
            "_________________________________________________________________\n",
            "Layer (type)                 Output Shape              Param #   \n",
            "=================================================================\n",
            "conv2d (Conv2D)              (None, 28, 28, 32)        832       \n",
            "_________________________________________________________________\n",
            "max_pooling2d (MaxPooling2D) (None, 14, 14, 32)        0         \n",
            "_________________________________________________________________\n",
            "conv2d_1 (Conv2D)            (None, 14, 14, 32)        25632     \n",
            "_________________________________________________________________\n",
            "max_pooling2d_1 (MaxPooling2 (None, 7, 7, 32)          0         \n",
            "_________________________________________________________________\n",
            "flatten (Flatten)            (None, 1568)              0         \n",
            "_________________________________________________________________\n",
            "dense (Dense)                (None, 1024)              1606656   \n",
            "_________________________________________________________________\n",
            "dropout (Dropout)            (None, 1024)              0         \n",
            "_________________________________________________________________\n",
            "dense_1 (Dense)              (None, 10)                10250     \n",
            "=================================================================\n",
            "Total params: 1,643,370\n",
            "Trainable params: 1,643,370\n",
            "Non-trainable params: 0\n",
            "_________________________________________________________________\n"
          ]
        }
      ]
    },
    {
      "cell_type": "markdown",
      "metadata": {
        "id": "GODLG0GJIKBX"
      },
      "source": [
        "# Compile the Neural Network"
      ]
    },
    {
      "cell_type": "code",
      "metadata": {
        "id": "qwaXDxfzINSl"
      },
      "source": [
        "model.compile(optimizer=Adam(),\n",
        "              loss=tf.keras.losses.SparseCategoricalCrossentropy(from_logits=True),\n",
        "              metrics=['sparse_categorical_accuracy']\n",
        "              )"
      ],
      "execution_count": null,
      "outputs": []
    },
    {
      "cell_type": "markdown",
      "metadata": {
        "id": "avQLqMzaI3Dx"
      },
      "source": [
        "# Train the Neural Network"
      ]
    },
    {
      "cell_type": "code",
      "metadata": {
        "id": "q_GXN5MJJY6A"
      },
      "source": [
        "batch_size = 200\n",
        "epochs = 10\n",
        "steps_per_epoch = 54000 // batch_size\n",
        "validation_steps = 6000 // batch_size"
      ],
      "execution_count": null,
      "outputs": []
    },
    {
      "cell_type": "code",
      "metadata": {
        "colab": {
          "base_uri": "https://localhost:8080/"
        },
        "id": "qfcdM20IJABW",
        "outputId": "32b6f6d6-8c0a-4788-a625-b6233fdbda0e"
      },
      "source": [
        "history = model.fit(X_train, y_train,\n",
        "                    batch_size=batch_size,\n",
        "                    epochs=epochs,\n",
        "                    steps_per_epoch=steps_per_epoch,\n",
        "                    validation_split=0.1, \n",
        "                    validation_steps=validation_steps\n",
        "                    )"
      ],
      "execution_count": null,
      "outputs": [
        {
          "output_type": "stream",
          "name": "stdout",
          "text": [
            "Epoch 1/10\n",
            "270/270 [==============================] - 36s 16ms/step - loss: 1.0662 - sparse_categorical_accuracy: 0.8907 - val_loss: 0.0793 - val_sparse_categorical_accuracy: 0.9748\n",
            "Epoch 2/10\n",
            "270/270 [==============================] - 4s 15ms/step - loss: 0.0853 - sparse_categorical_accuracy: 0.9732 - val_loss: 0.0617 - val_sparse_categorical_accuracy: 0.9807\n",
            "Epoch 3/10\n",
            "270/270 [==============================] - 4s 15ms/step - loss: 0.0582 - sparse_categorical_accuracy: 0.9812 - val_loss: 0.0591 - val_sparse_categorical_accuracy: 0.9828\n",
            "Epoch 4/10\n",
            "270/270 [==============================] - 4s 15ms/step - loss: 0.0437 - sparse_categorical_accuracy: 0.9853 - val_loss: 0.0528 - val_sparse_categorical_accuracy: 0.9843\n",
            "Epoch 5/10\n",
            "270/270 [==============================] - 4s 15ms/step - loss: 0.0341 - sparse_categorical_accuracy: 0.9890 - val_loss: 0.0514 - val_sparse_categorical_accuracy: 0.9868\n",
            "Epoch 6/10\n",
            "270/270 [==============================] - 4s 15ms/step - loss: 0.0298 - sparse_categorical_accuracy: 0.9902 - val_loss: 0.0463 - val_sparse_categorical_accuracy: 0.9885\n",
            "Epoch 7/10\n",
            "270/270 [==============================] - 4s 15ms/step - loss: 0.0283 - sparse_categorical_accuracy: 0.9907 - val_loss: 0.0491 - val_sparse_categorical_accuracy: 0.9868\n",
            "Epoch 8/10\n",
            "270/270 [==============================] - 4s 15ms/step - loss: 0.0241 - sparse_categorical_accuracy: 0.9922 - val_loss: 0.0496 - val_sparse_categorical_accuracy: 0.9888\n",
            "Epoch 9/10\n",
            "270/270 [==============================] - 4s 15ms/step - loss: 0.0231 - sparse_categorical_accuracy: 0.9928 - val_loss: 0.0546 - val_sparse_categorical_accuracy: 0.9855\n",
            "Epoch 10/10\n",
            "270/270 [==============================] - 4s 15ms/step - loss: 0.0214 - sparse_categorical_accuracy: 0.9929 - val_loss: 0.0431 - val_sparse_categorical_accuracy: 0.9890\n"
          ]
        }
      ]
    },
    {
      "cell_type": "code",
      "metadata": {
        "colab": {
          "base_uri": "https://localhost:8080/",
          "height": 295
        },
        "id": "s4DDvShiL8ME",
        "outputId": "f8e86b12-d353-4406-9782-3f758687cb18"
      },
      "source": [
        "# Plot the accuracy of the model during training\n",
        "plt.plot(history.history['sparse_categorical_accuracy'])\n",
        "plt.plot(history.history['val_sparse_categorical_accuracy'])\n",
        "plt.title('Model Accuracy')\n",
        "plt.ylabel('Sparse_categorical_accuracy')\n",
        "plt.xlabel('Epoch')\n",
        "plt.legend(['Training', 'Validation'], loc='upper left')\n",
        "plt.show()"
      ],
      "execution_count": null,
      "outputs": [
        {
          "output_type": "display_data",
          "data": {
            "image/png": "[encoded data removed]",
            "text/plain": [
              "<Figure size 432x288 with 1 Axes>"
            ]
          },
          "metadata": {
            "needs_background": "light"
          }
        }
      ]
    },
    {
      "cell_type": "code",
      "metadata": {
        "colab": {
          "base_uri": "https://localhost:8080/",
          "height": 295
        },
        "id": "esRRCfC2L9gb",
        "outputId": "299fb77a-79c0-4d42-f186-4e8421b64483"
      },
      "source": [
        "# Plot the loss of the model during training\n",
        "plt.plot(history.history['loss'])\n",
        "plt.plot(history.history['val_loss'])\n",
        "plt.title('Model Loss')\n",
        "plt.ylabel('Loss')\n",
        "plt.xlabel('Epoch')\n",
        "plt.legend(['Training', 'Validation'], loc='upper right')\n",
        "plt.show()"
      ],
      "execution_count": null,
      "outputs": [
        {
          "output_type": "display_data",
          "data": {
            "image/png": "[encoded data removed]",
            "text/plain": [
              "<Figure size 432x288 with 1 Axes>"
            ]
          },
          "metadata": {
            "needs_background": "light"
          }
        }
      ]
    },
    {
      "cell_type": "code",
      "metadata": {
        "colab": {
          "base_uri": "https://localhost:8080/"
        },
        "id": "ipteh02QObYC",
        "outputId": "9038a4ad-b013-4d49-c074-1d56fac86a63"
      },
      "source": [
        "# Evaluate the best model with testing data.\n",
        "print(model.evaluate(X_test, y_test))"
      ],
      "execution_count": null,
      "outputs": [
        {
          "output_type": "stream",
          "name": "stdout",
          "text": [
            "313/313 [==============================] - 2s 5ms/step - loss: 0.0515 - sparse_categorical_accuracy: 0.9878\n",
            "[0.051523566246032715, 0.9878000020980835]\n"
          ]
        }
      ]
    },
    {
      "cell_type": "code",
      "metadata": {
        "colab": {
          "base_uri": "https://localhost:8080/",
          "height": 163
        },
        "id": "VJePt7poPoPa",
        "outputId": "84b69d83-01a8-40b0-fc3e-390e24c35ee0"
      },
      "source": [
        "plotImages(x_test[:10])"
      ],
      "execution_count": null,
      "outputs": [
        {
          "output_type": "display_data",
          "data": {
            "image/png": "[encoded data removed]",
            "text/plain": [
              "<Figure size 1440x1440 with 10 Axes>"
            ]
          },
          "metadata": {
            "needs_background": "light"
          }
        }
      ]
    },
    {
      "cell_type": "code",
      "metadata": {
        "colab": {
          "base_uri": "https://localhost:8080/"
        },
        "id": "xStbKUBhOxu6",
        "outputId": "4631e89e-9eb5-4316-c93b-3e545beda10e"
      },
      "source": [
        "predictions = np.argmax(model.predict(X_test[:10]), axis=-1)\n",
        "print(predictions)"
      ],
      "execution_count": null,
      "outputs": [
        {
          "output_type": "stream",
          "name": "stdout",
          "text": [
            "[7 2 1 0 4 1 4 9 5 9]\n"
          ]
        }
      ]
    }
  ]
}